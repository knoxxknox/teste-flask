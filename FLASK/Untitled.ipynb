{
 "cells": [
  {
   "cell_type": "code",
   "execution_count": 15,
   "id": "c4496d79-4654-4685-a42d-c96223695612",
   "metadata": {},
   "outputs": [],
   "source": [
    "html=\"\"\n",
    "f = open('edit.html', 'r')\n",
    "for line in f:\n",
    "    html=html+line+'\\n'"
   ]
  },
  {
   "cell_type": "code",
   "execution_count": 16,
   "id": "058fa41b-f2b3-413f-b962-01da3f4e67bf",
   "metadata": {},
   "outputs": [
    {
     "data": {
      "text/plain": [
       "'<!DOCTYPE html PUBLIC \"-//W3C//DTD XHTML 1.0 Transitional //EN\" \"http://www.w3.org/TR/xhtml1/DTD/xhtml1-transitional.dtd\"><html xmlns=\"http://www.w3.org/1999/xhtml\" xmlns:o=\"urn:schemas-microsoft-com:office:office\" xmlns:v=\"urn:schemas-microsoft-com:vml\" lang=\"en\">\\n\\n  \\n\\n  <head><link rel=\"stylesheet\" type=\"text/css\" hs-webfonts=\"true\" href=\"https://fonts.googleapis.com/css?family=Lato|Lato:i,b,bi\">\\n\\n    <title>Email template</title>\\n\\n    <meta property=\"og:title\" content=\"Email template\">\\n\\n    \\n\\n<meta http-equiv=\"Content-Type\" content=\"text/html; charset=UTF-8\">\\n\\n\\n\\n<meta http-equiv=\"X-UA-Compatible\" content=\"IE=edge\">\\n\\n\\n\\n<meta name=\"viewport\" content=\"width=device-width, initial-scale=1.0\">\\n\\n\\n\\n<meta http-equiv=\"refresh\" content=\"5\" >\\n\\n    \\n\\n    <style type=\"text/css\">\\n\\n   \\n\\n      a{ \\n\\n        text-decoration: underline;\\n\\n        color: inherit;\\n\\n        font-weight: bold;\\n\\n        color: #253342;\\n\\n      }\\n\\n      \\n\\n      h1 {\\n\\n        font-size: 56px;\\n\\n      }\\n\\n      \\n\\n        h2{\\n\\n        font-size: 28px;\\n\\n        font-weight: 900; \\n\\n      }\\n\\n      \\n\\n      p {\\n\\n        font-weight: 100;\\n\\n      }\\n\\n      \\n\\n      td {\\n\\n    vertical-align: top;\\n\\n      }\\n\\n      \\n\\n      #email {\\n\\n        margin: auto;\\n\\n        width: 800px;\\n\\n        background-color: white;\\n\\n      }\\n\\n            \\n\\n      .subtle-link {\\n\\n        font-size: 12px; \\n\\n        text-transform:; \\n\\n        letter-spacing: 1px;\\n\\n        color: #CBD6E2;\\n\\n      }\\n\\n      \\n\\n    </style>\\n\\n    \\n\\n  </head>\\n\\n    \\n\\n    <body bgcolor=\"#F5F8FA\" style=\"width: 100%; margin: auto 0; padding:0; font-family:Lato, sans-serif; font-size:18px; color:#33475B; word-break:break-word\">\\n\\n  \\n\\n <! View in Browser Link --> \\n\\n      \\n\\n<div id=\"email\">\\n\\n      <table align=\"center\" role=\"presentation\">\\n\\n        <tr>\\n\\n          <td>\\n\\n          <a class=\"subtle-link\" href=\"#\">Stone - OperaÃ§Ãµes Autorizador - Analytics</a>\\n\\n          </td>\\n\\n          <tr>\\n\\n      </table>\\n\\n  \\n\\n  \\n\\n  <! Banner --> \\n\\n         <table role=\"presentation\" width=\"100%\">\\n\\n            <tr>\\n\\n         \\n\\n              <td bgcolor=\"#00bd19\" align=\"center\" style=\"color: white;\">\\n\\n                \\n\\n                <h2> Report operacional de anÃ¡lise do Deploy do Autorizador <p><h2>VersÃ£o TOKEN_VERSAO </h2></p> </h2>\\n\\n                         \\n\\n              </td>\\n\\n\\n\\n              <tr>\\n\\n                <td width=\"500\" align=\"right\" style=\"color: white;\" bgcolor=\"#00bd19\"><p>Desde Ã\\xa0s TOKEN_DATA  </p></td>\\n\\n            </tr>\\n\\n\\n\\n\\n\\n        </table>\\n\\n\\n\\n\\n\\n        <tr>\\n\\n          <td>\\n\\n              <table id=\"content-3\" cellpadding=\"0\" cellspacing=\"0\" align=\"center\">\\n\\n              <tr>\\n\\n                  <td width=\"250\" valign=\"top\" bgcolor=\"#ffffff\" style=\"padding:5px;\">\\n\\n                  <img src=\"https://upload.wikimedia.org/wikipedia/commons/c/c9/Stone_pagamentos.png\" width=\"230\" height=\"110\"  />\\n\\n                  </td>\\n\\n                  <td width=\"15\"></td>\\n\\n              </tr>\\n\\n              </table>\\n\\n          </td>\\n\\n          </tr>\\n\\n\\n\\n    <! First Row --> \\n\\n  \\n\\n  <table role=\"presentation\" border=\"0\" cellpadding=\"0\" cellspacing=\"0px\" style=\"padding: 30px 30px 10px 30px;\">\\n\\n     <tr>\\n\\n       <td>\\n\\n        <h2> Escopo da anÃ¡lise</h2>\\n\\n            <p>\\n\\n              O deploy estÃ¡ sendo analisado atravÃ©s de quatro KPIs, sendo eles: ConversÃ£o, erros, tempo das aplicaÃ§Ãµes e volume. A cada 30 minutos um novo report serÃ¡ gerado, explorando pontos as mÃ©tricas e sinalisando pontos de atenÃ§Ã£o caso existam.\\n\\n            </p>\\n\\n\\n\\n      </td> \\n\\n          </tr>\\n\\n  </table>\\n\\n  \\n\\n\\n\\n\\n\\n\\n\\n\\n\\n  <table role=\"presentation\" border=\"0\" cellpadding=\"0\" cellspacing=\"0px\" style=\"padding: 30px 30px 10px 30px;\">\\n\\n    <tr>\\n\\n      <td>\\n\\n        <h3>Tempo</h3>\\n\\n        <tr>\\n\\n\\t\\tTOKEN_05\\n\\n        </tr>\\n\\n     </td>\\n\\n      <td> Este grÃ¡fico representa a corelaÃ§Ã£o de tempos das aplicaÃ§Ãµes.</td>\\n\\n    </tr>\\n\\n\\n\\n </table>\\n\\n\\n\\n              \\n\\n  </table>\\n\\n     \\n\\n        <! Banner Row --> \\n\\n  <table role=\"presentation\" bgcolor=\"#EAF0F6\" width=\"100%\" style=\"margin-top: 50px;\" >\\n\\n      <tr>\\n\\n          <td align=\"center\" style=\"padding: 30px 30px;\">\\n\\n            \\n\\n         <h2> Time de operaÃ§Ãµes do Autorizador - Analytics </h2>\\n\\n            <p>\\n\\n              Este documento foi gerado por uma automaÃ§Ã£o de anÃ¡lises de dados das informaÃ§Ãµes transacionais do Autorizador - Stone. Em caso de dÃ\\xadvida por gentileza nos acionar atravÃ©s do seguinte endereÃ§o: \\n\\n      \\n\\n              </p>\\n\\n              <a href=\"#\">auth.analytics@stone.com.br</a>      \\n\\n          </td>\\n\\n          </tr>\\n\\n      </table>\\n\\n  \\n\\n        <! Unsubscribe Footer --> \\n\\n      \\n\\n  <table role=\"presentation\" bgcolor=\"#F5F8FA\" width=\"100%\" >\\n\\n      <tr>\\n\\n          <td align=\"left\" style=\"padding: 30px 30px;\">\\n\\n            <p style=\"color:#99ACC2\"> Stone CO &hearts; Autorizador - Analytics </p>\\n\\n    \\n\\n          </td>\\n\\n          </tr>\\n\\n      </table> \\n\\n      </div>\\n\\n    </body>\\n\\n      </html>\\n\\nÂ© 2022 GitHub, Inc.\\n\\nTerms\\n\\nPrivacy\\n\\nSecurity\\n\\nStatus\\n\\nDocs\\n\\nContact GitHub\\n\\nPricing\\n\\nAPI\\n\\nTraining\\n\\nBlog\\n\\nAbout\\n\\nLoading complete\\n'"
      ]
     },
     "execution_count": 16,
     "metadata": {},
     "output_type": "execute_result"
    }
   ],
   "source": [
    "html"
   ]
  },
  {
   "cell_type": "code",
   "execution_count": null,
   "id": "9c1cdbcb-6529-43e2-bf5b-c2f01bd88fb8",
   "metadata": {},
   "outputs": [],
   "source": []
  }
 ],
 "metadata": {
  "kernelspec": {
   "display_name": "Python 3",
   "language": "python",
   "name": "python3"
  },
  "language_info": {
   "codemirror_mode": {
    "name": "ipython",
    "version": 3
   },
   "file_extension": ".py",
   "mimetype": "text/x-python",
   "name": "python",
   "nbconvert_exporter": "python",
   "pygments_lexer": "ipython3",
   "version": "3.8.9"
  }
 },
 "nbformat": 4,
 "nbformat_minor": 5
}
